{
 "cells": [
  {
   "cell_type": "markdown",
   "id": "699fac9b-41e1-4834-9856-8c8a613f1cac",
   "metadata": {},
   "source": [
    "# Classic Radiosity with Python and Mitsuba 3\n",
    "This notebook demonstrates a classic implementation of the radiosity algorithm. The process involves:\n",
    "1. Mesh Refinement: Subdividing large triangles in a scene into smaller patches to ensure accurate light distribution.\n",
    "2. Form Factor Calculation: Computing a matrix F where $F_{ij}$ represents the fraction of energy leaving patch i that arrives at patch j. This is the most computationally intensive step.\n",
    "3. Radiosity Solver: Iteratively solving the radiosity equation to find the final radiosity (exitant light) of each patch.\n",
    "4. Rendering: Using Mitsuba 3 to render the final scene, where the calculated radiosity values are used as per-face emission colors.\n",
    "## 1. Setup and Imports"
   ]
  },
  {
   "cell_type": "code",
   "execution_count": 1,
   "id": "770af0bd-876f-4227-b7d3-6310ba4971f4",
   "metadata": {},
   "outputs": [],
   "source": [
    "import os\n",
    "import glob\n",
    "from math import ceil, sqrt\n",
    "from collections import defaultdict\n",
    "from multiprocessing import Pool\n",
    "\n",
    "import numpy as np\n",
    "from numpy.linalg import norm\n",
    "from scipy.spatial import Delaunay, cKDTree\n",
    "from scipy.spatial.distance import pdist\n",
    "from scipy.sparse import csr_matrix\n",
    "\n",
    "import matplotlib.pyplot as plt\n",
    "import pyvista as pv\n",
    "from tqdm.auto import tqdm\n",
    "\n",
    "import trimesh\n",
    "from trimesh.ray.ray_pyembree import RayMeshIntersector\n",
    "from plyfile import PlyData, PlyElement\n",
    "\n",
    "import mitsuba as mi\n",
    "\n",
    "temp_dir = \"./temp\"\n",
    "mi.set_variant(\"cuda_ad_rgb\")\n",
    "os.makedirs(temp_dir, exist_ok=True)"
   ]
  },
  {
   "cell_type": "markdown",
   "id": "8de03eb1-b648-47a0-adb7-c9f7e0e09301",
   "metadata": {
    "jp-MarkdownHeadingCollapsed": true
   },
   "source": [
    "# Utility Funcitons"
   ]
  },
  {
   "cell_type": "code",
   "execution_count": 2,
   "id": "253582da-59d4-4be1-bb01-0961e79caec4",
   "metadata": {},
   "outputs": [],
   "source": [
    "def visualize_triangles(triangles, triangle_values=None, cmap='magma'):\n",
    "    vertices = triangles.reshape(-1, 3)\n",
    "    \n",
    "    # Create face array: [3, pt1, pt2, pt3, 3, pt4, pt5, pt6, ...]\n",
    "    faces = np.hstack([[3] + list(f) for f in np.arange(len(vertices)).reshape(-1, 3)])\n",
    "    \n",
    "    mesh = pv.PolyData(vertices, faces)\n",
    "    \n",
    "    # Add scalar values as cell data (one value per triangle)\n",
    "    if triangle_values is not None:\n",
    "        mesh.cell_data[\"values\"] = triangle_values\n",
    "    \n",
    "    plotter = pv.Plotter()\n",
    "    plotter.add_mesh(mesh, scalars=\"values\" if triangle_values is not None else None, show_edges=True, opacity=0.9, cmap=cmap, color='skyblue')\n",
    "    plotter.show()"
   ]
  },
  {
   "cell_type": "code",
   "execution_count": 3,
   "id": "627aa22b-b026-4766-9e96-c15ebbe74be4",
   "metadata": {},
   "outputs": [],
   "source": [
    "def plotPointsViaDelaunayTriangulation(pnts, filename=''):\n",
    "    points = np.array(pnts)\n",
    "    tri = Delaunay(points)\n",
    "    \n",
    "    plt.figure(dpi=300)\n",
    "    plt.triplot(points[:,0], points[:,1], tri.simplices.copy(), linewidth=0.5)\n",
    "    plt.plot(points[:,0], points[:,1], 'o', ms=3)\n",
    "    \n",
    "    if filename: \n",
    "        plt.savefig(filename)\n",
    "    else:\n",
    "        plt.show()"
   ]
  },
  {
   "cell_type": "markdown",
   "id": "b048267a-7946-4c5f-ab8c-14a87474044d",
   "metadata": {},
   "source": [
    "## Refining Triangles"
   ]
  },
  {
   "cell_type": "code",
   "execution_count": 4,
   "id": "db05fc16-09e6-4f03-8423-7fbaf6f5e314",
   "metadata": {},
   "outputs": [],
   "source": [
    "def project_triangle_2D(triangle):\n",
    "    v0, v1, v2 = triangle\n",
    "    \n",
    "    origin = v0\n",
    "\n",
    "    u = v1 - v0\n",
    "    u /= np.linalg.norm(u)\n",
    "    \n",
    "    normal = np.cross(v1 - v0, v2 - v0)\n",
    "    normal /= np.linalg.norm(normal)\n",
    "    \n",
    "    v = np.cross(normal, u)\n",
    "    \n",
    "    def project_to_2d(p):\n",
    "        relative = p - origin\n",
    "        return [np.dot(relative, u), np.dot(relative, v)]\n",
    "    \n",
    "    v0_2d = project_to_2d(v0)  # will be (0, 0)\n",
    "    v1_2d = project_to_2d(v1)\n",
    "    v2_2d = project_to_2d(v2)\n",
    "\n",
    "    return v0_2d, v1_2d, v2_2d, origin, u, v"
   ]
  },
  {
   "cell_type": "code",
   "execution_count": 5,
   "id": "8cd9d56b-7871-4197-9f10-865104452101",
   "metadata": {},
   "outputs": [],
   "source": [
    "def splitViaDelaunay(points, maxLength):\n",
    "    # print(\"Perform Delaunay triangulation with \"+str(len(points))+\" points\")\n",
    "    tri = Delaunay(points)\n",
    "    # plotPointsViaDelaunayTriangulation(points, filename=f'./triangle_{len(points)}.png')\n",
    "    # get set of edges from the simpleces\n",
    "    edges = set()\n",
    "    for simplex in tri.simplices:\n",
    "        # simplex is one triangle: [ 4  5 17]\n",
    "        edges.add((simplex[0], simplex[1]))\n",
    "        edges.add((simplex[1], simplex[2]))\n",
    "        edges.add((simplex[0], simplex[2]))\n",
    "    # check if all edges are small enough\n",
    "    # and add new points if not\n",
    "    isFinished = True\n",
    "    for edge in edges:\n",
    "        p1, p2 = edge\n",
    "        [x1, y1] = points[p1]\n",
    "        [x2, y2] = points[p2]\n",
    "        length = sqrt((x2-x1)*(x2-x1)+(y2-y1)*(y2-y1))\n",
    "        if length > maxLength:\n",
    "            isFinished = False\n",
    "            # split in how many pieces?\n",
    "            nPieces = ceil(length/maxLength)\n",
    "            for piece in range(1, int(nPieces)):\n",
    "                points.append([x1+piece/float(nPieces)*(x2-x1), y1+piece/float(nPieces)*(y2-y1)])\n",
    "    # plotPointsViaDelaunayTriangulation(points)\n",
    "    if not isFinished:\n",
    "        splitViaDelaunay(points, maxLength)"
   ]
  },
  {
   "cell_type": "code",
   "execution_count": 6,
   "id": "c9d58c18-8458-4fe2-ab06-4738c493398a",
   "metadata": {},
   "outputs": [],
   "source": [
    "def subdivide_triangles(triangles, maxLength = 0.5):\n",
    "    refined_triangles = []\n",
    "    \n",
    "    for triangle in tqdm(triangles, desc=\"Refinig Triangles\", leave=False):\n",
    "        v0_2d, v1_2d, v2_2d, origin, u, v = project_triangle_2D(triangle)\n",
    "        points = [v0_2d, v1_2d, v2_2d]\n",
    "        \n",
    "        splitViaDelaunay(points, maxLength)  \n",
    "        tri = Delaunay(points)\n",
    "    \n",
    "        def to_3d(p, origin, u, v):\n",
    "            x, y = p\n",
    "            return origin + u * x + v * y\n",
    "            \n",
    "        for x, y, z in tri.simplices:\n",
    "            v0, v1, v2 = points[x], points[y], points[z]\n",
    "            v0, v1, v2 = to_3d(v0, origin, u, v), to_3d(v1, origin, u, v), to_3d(v2, origin, u, v)\n",
    "            refined_triangles.append([v0, v1, v2])\n",
    "    \n",
    "    return refined_triangles"
   ]
  },
  {
   "cell_type": "code",
   "execution_count": 7,
   "id": "817df1f6-a361-4aec-888e-784c7a3ce7f1",
   "metadata": {},
   "outputs": [],
   "source": [
    "def refine_scene(scene, maxLength=0.5):\n",
    "    refined_scene = trimesh.Scene()\n",
    "    \n",
    "    for key, mesh in scene.geometry.items():\n",
    "        triangles = mesh.triangles  # (N, 3, 3)\n",
    "    \n",
    "        refined_triangles = subdivide_triangles(triangles, maxLength)\n",
    "    \n",
    "        # Build new vertices and faces\n",
    "        vertices = np.array(refined_triangles).reshape(-1, 3)\n",
    "        faces = np.arange(len(vertices)).reshape(-1, 3)\n",
    "    \n",
    "        # Preserve visual/material if present\n",
    "        mat = mesh.visual.material if hasattr(mesh.visual, 'material') else None\n",
    "        visual = trimesh.visual.TextureVisuals(material=mat) if mat else None\n",
    "    \n",
    "        new_mesh = trimesh.Trimesh(vertices=vertices, faces=faces, process=False, visual=visual)\n",
    "        new_mesh.fix_normals()\n",
    "        new_mesh.name = key\n",
    "        refined_scene.add_geometry(new_mesh, node_name=key)\n",
    "    \n",
    "    return refined_scene"
   ]
  },
  {
   "cell_type": "markdown",
   "id": "23a62b0e-7376-4e0a-bc5b-b7e0200808fb",
   "metadata": {},
   "source": [
    "# Code"
   ]
  },
  {
   "cell_type": "code",
   "execution_count": 8,
   "id": "d3aeb9e1-05be-4528-a934-8b2b95dee1bc",
   "metadata": {},
   "outputs": [
    {
     "data": {
      "text/plain": [
       "odict_keys(['light', 'leftWall', 'rightWall', 'backWall', 'ceiling', 'floor', 'rightSphere', 'leftSphere'])"
      ]
     },
     "execution_count": 8,
     "metadata": {},
     "output_type": "execute_result"
    }
   ],
   "source": [
    "filename = \"CornellBox-Sphere.obj\"\n",
    "scene = trimesh.load(\"./scenes/\" + filename, force='scene')  # 'force=scene' is important if multiple geometries exist\n",
    "triangles = scene.triangles\n",
    "\n",
    "scene.geometry.keys()"
   ]
  },
  {
   "cell_type": "code",
   "execution_count": 9,
   "id": "fb17ab62-4f15-40b5-a7f9-cf9d2b01c763",
   "metadata": {},
   "outputs": [
    {
     "data": {
      "application/vnd.jupyter.widget-view+json": {
       "model_id": "dc7362c646de4db79c171f56517274cd",
       "version_major": 2,
       "version_minor": 0
      },
      "text/plain": [
       "Widget(value='<iframe src=\"http://localhost:57219/index.html?ui=P_0x18416d6d3d0_0&reconnect=auto\" class=\"pyvis…"
      ]
     },
     "metadata": {},
     "output_type": "display_data"
    }
   ],
   "source": [
    "visualize_triangles(scene.triangles)"
   ]
  },
  {
   "cell_type": "code",
   "execution_count": 29,
   "id": "760f3424-363f-4a91-80e9-dcec885072b5",
   "metadata": {},
   "outputs": [
    {
     "data": {
      "application/vnd.jupyter.widget-view+json": {
       "model_id": "",
       "version_major": 2,
       "version_minor": 0
      },
      "text/plain": [
       "Refinig Triangles:   0%|          | 0/2 [00:00<?, ?it/s]"
      ]
     },
     "metadata": {},
     "output_type": "display_data"
    },
    {
     "data": {
      "application/vnd.jupyter.widget-view+json": {
       "model_id": "",
       "version_major": 2,
       "version_minor": 0
      },
      "text/plain": [
       "Refinig Triangles:   0%|          | 0/2 [00:00<?, ?it/s]"
      ]
     },
     "metadata": {},
     "output_type": "display_data"
    },
    {
     "data": {
      "application/vnd.jupyter.widget-view+json": {
       "model_id": "",
       "version_major": 2,
       "version_minor": 0
      },
      "text/plain": [
       "Refinig Triangles:   0%|          | 0/2 [00:00<?, ?it/s]"
      ]
     },
     "metadata": {},
     "output_type": "display_data"
    },
    {
     "data": {
      "application/vnd.jupyter.widget-view+json": {
       "model_id": "",
       "version_major": 2,
       "version_minor": 0
      },
      "text/plain": [
       "Refinig Triangles:   0%|          | 0/2 [00:00<?, ?it/s]"
      ]
     },
     "metadata": {},
     "output_type": "display_data"
    },
    {
     "data": {
      "application/vnd.jupyter.widget-view+json": {
       "model_id": "",
       "version_major": 2,
       "version_minor": 0
      },
      "text/plain": [
       "Refinig Triangles:   0%|          | 0/2 [00:00<?, ?it/s]"
      ]
     },
     "metadata": {},
     "output_type": "display_data"
    },
    {
     "data": {
      "application/vnd.jupyter.widget-view+json": {
       "model_id": "",
       "version_major": 2,
       "version_minor": 0
      },
      "text/plain": [
       "Refinig Triangles:   0%|          | 0/2 [00:00<?, ?it/s]"
      ]
     },
     "metadata": {},
     "output_type": "display_data"
    },
    {
     "data": {
      "application/vnd.jupyter.widget-view+json": {
       "model_id": "",
       "version_major": 2,
       "version_minor": 0
      },
      "text/plain": [
       "Refinig Triangles:   0%|          | 0/1088 [00:00<?, ?it/s]"
      ]
     },
     "metadata": {},
     "output_type": "display_data"
    },
    {
     "data": {
      "application/vnd.jupyter.widget-view+json": {
       "model_id": "",
       "version_major": 2,
       "version_minor": 0
      },
      "text/plain": [
       "Refinig Triangles:   0%|          | 0/1088 [00:00<?, ?it/s]"
      ]
     },
     "metadata": {},
     "output_type": "display_data"
    },
    {
     "name": "stdout",
     "output_type": "stream",
     "text": [
      "Exported Refined object File\n"
     ]
    }
   ],
   "source": [
    "refined_scene = refine_scene(scene, maxLength=0.1)\n",
    "refined_scene.export(\"refined_scene.obj\")\n",
    "print(\"Exported Refined object File\")"
   ]
  },
  {
   "cell_type": "code",
   "execution_count": 30,
   "id": "6de9f348-46ba-444b-a700-d4f1fc49b1d3",
   "metadata": {},
   "outputs": [
    {
     "data": {
      "application/vnd.jupyter.widget-view+json": {
       "model_id": "cf110fe6454b444fbcda1b51e4ed2952",
       "version_major": 2,
       "version_minor": 0
      },
      "text/plain": [
       "Widget(value='<iframe src=\"http://localhost:57219/index.html?ui=P_0x1843be68410_3&reconnect=auto\" class=\"pyvis…"
      ]
     },
     "metadata": {},
     "output_type": "display_data"
    }
   ],
   "source": [
    "# colors = np.zeros(refined_scene.triangles.shape)\n",
    "# colors[0] = 3333\n",
    "visualize_triangles(refined_scene.triangles)"
   ]
  },
  {
   "cell_type": "markdown",
   "id": "9b4ef061-4a77-458d-85f4-82ffcd473c0a",
   "metadata": {},
   "source": [
    "## Triangulation"
   ]
  },
  {
   "cell_type": "code",
   "execution_count": 31,
   "id": "75e261b6-0b81-4ee1-9af6-55df763e4f56",
   "metadata": {},
   "outputs": [],
   "source": [
    "%matplotlib inline\n",
    "\n",
    "points = [[0,0], [10,3], [9.5,4]]\n",
    "# plotPointsViaDelaunayTriangulation(points)\n",
    "splitViaDelaunay(points, 0.5)\n",
    "# plotPointsViaDelaunayTriangulation(points)"
   ]
  },
  {
   "cell_type": "markdown",
   "id": "1c0708b0-1608-41b8-b8e2-6d994e77d93b",
   "metadata": {},
   "source": [
    "## "
   ]
  },
  {
   "cell_type": "code",
   "execution_count": 32,
   "id": "a902f33c-3bac-4459-a7c0-7ce5c94b0e68",
   "metadata": {},
   "outputs": [
    {
     "data": {
      "application/vnd.jupyter.widget-view+json": {
       "model_id": "dc75fe6291de45b29ff0d413a68a8174",
       "version_major": 2,
       "version_minor": 0
      },
      "text/plain": [
       "Extracting triangles:   0%|          | 0/8 [00:00<?, ?it/s]"
      ]
     },
     "metadata": {},
     "output_type": "display_data"
    }
   ],
   "source": [
    "T = [] # traingle Vertices\n",
    "rho = []  # Reflectance\n",
    "E = []    # Emission\n",
    "\n",
    "for key, mesh in tqdm(refined_scene.geometry.items(), 'Extracting triangles'):\n",
    "    N = len(mesh.triangles)\n",
    "    T.extend(mesh.triangles)\n",
    "\n",
    "    props = mesh.visual.material.kwargs\n",
    "\n",
    "    kd = np.array(props.get('kd', [0.5, 0.5, 0.5]), dtype=np.float32)\n",
    "    ke = np.array(props.get('ke', [0.0, 0.0, 0.0]), dtype=np.float32)\n",
    "\n",
    "    rho.extend([kd] * N)\n",
    "    E.extend([ke] * N)"
   ]
  },
  {
   "cell_type": "code",
   "execution_count": 33,
   "id": "36dfc32a-8075-4b22-b26e-896681c4873b",
   "metadata": {},
   "outputs": [
    {
     "name": "stdout",
     "output_type": "stream",
     "text": [
      "Total patches: 11254\n",
      "Shapes: T=(11254, 3, 3), rho=(11254, 3), E=(11254, 3)\n"
     ]
    }
   ],
   "source": [
    "T = np.array(T)\n",
    "rho = np.array(rho)\n",
    "E = np.array(E)\n",
    "N = len(T)\n",
    "\n",
    "print(f\"Total patches: {N}\")\n",
    "print(f\"Shapes: T={T.shape}, rho={rho.shape}, E={E.shape}\")"
   ]
  },
  {
   "cell_type": "code",
   "execution_count": 34,
   "id": "cc5a73c2-e4ec-4f7b-925d-f8971970f882",
   "metadata": {},
   "outputs": [],
   "source": [
    "all_vertices = T.reshape(-1, 3)\n",
    "all_faces = np.arange(len(all_vertices)).reshape(-1, 3)\n",
    "scene_mesh = trimesh.Trimesh(vertices=all_vertices, faces=all_faces, process=False)"
   ]
  },
  {
   "cell_type": "markdown",
   "id": "52625787-2206-4713-ab17-afca27b9e4ff",
   "metadata": {},
   "source": [
    "## 5. Form Factor Calculation\n",
    "\n",
    "The **form factor** $F_{ij}$ represents the fraction of energy leaving patch $i$ that directly reaches patch $j$. It is a key component in **radiosity** calculations.\n",
    "\n",
    "We use a **point-to-patch** approximation:\n",
    "\n",
    "$$\n",
    "F_{ij} \\approx \\frac{\\cos(\\theta_i)\\cos(\\theta_j)}{\\pi r^2} A_j \\cdot V_{ij}\n",
    "$$\n",
    "\n",
    "---\n",
    "\n",
    "### Where:\n",
    "\n",
    "- $\\theta_i$: Angle between the normal of patch $i$ and the line connecting the centroids of patches $i$ and $j$\n",
    "- $\\theta_j$: Angle between the normal of patch $j$ and the same connecting line  \n",
    "- $r$: Distance between the centroids of patches $i$ and $j$  \n",
    "- $A_j$: Area of patch $j$  \n",
    "- $V_{ij}$: **Visibility term**  \n",
    "  - $1$ if patch $j$ is visible from patch $i$  \n",
    "  - $0$ otherwise\n",
    "\n",
    "---\n",
    "\n",
    "This approximation assumes that each patch can be represented by its centroid and normal, which simplifies computation while maintaining reasonable accuracy."
   ]
  },
  {
   "cell_type": "code",
   "execution_count": 35,
   "id": "11b77f6e-d7e9-498a-b9a3-4e58bdacd75e",
   "metadata": {},
   "outputs": [],
   "source": [
    "N = len(T)\n",
    "rho = np.array(rho)\n",
    "E = np.array(E)\n",
    "\n",
    "centroids = scene_mesh.triangles_center\n",
    "normals = scene_mesh.face_normals\n",
    "areas = scene_mesh.area_faces\n",
    "\n",
    "F = np.zeros((N, N))\n",
    "V = np.zeros((N, N), dtype=np.uint8)\n",
    "\n",
    "scene_rays = RayMeshIntersector(scene_mesh)\n",
    "\n",
    "# Build KD-tree on triangle centroids\n",
    "centroid_tree = cKDTree(centroids)\n",
    "\n",
    "bbox_min = np.min(centroids, axis=0)\n",
    "bbox_max = np.max(centroids, axis=0)\n",
    "\n",
    "max_neighbor_radius = norm(bbox_max - bbox_min)  # diagonal of bounding box\n",
    "\n",
    "epsilon = 1e-5 * np.linalg.norm(bbox_max - bbox_min)"
   ]
  },
  {
   "cell_type": "code",
   "execution_count": 36,
   "id": "74f9696c-9314-49b0-8b7c-90c3e4b612dd",
   "metadata": {},
   "outputs": [
    {
     "name": "stdout",
     "output_type": "stream",
     "text": [
      "Computing form factor and visibility matrices...\n"
     ]
    },
    {
     "data": {
      "application/vnd.jupyter.widget-view+json": {
       "model_id": "280adad9060e48938c82086392fe6a3f",
       "version_major": 2,
       "version_minor": 0
      },
      "text/plain": [
       "Calculating Form Factors:   0%|          | 0/11254 [00:00<?, ?it/s]"
      ]
     },
     "metadata": {},
     "output_type": "display_data"
    },
    {
     "name": "stdout",
     "output_type": "stream",
     "text": [
      "Saved form factor and visibility matrices.\n"
     ]
    }
   ],
   "source": [
    "# Check if form factor is cached\n",
    "F_path = f\"./temp/{filename}_{N}_F.npy\"\n",
    "\n",
    "if os.path.exists(F_path):\n",
    "    print(\"Loading existing form factor and visibility matrices...\")\n",
    "    F = np.load(F_path)\n",
    "else:\n",
    "    print(\"Computing form factor and visibility matrices...\")\n",
    "    \n",
    "    for i in tqdm(range(N), desc=\"Calculating Form Factors\"):\n",
    "        origin_i = centroids[i]\n",
    "        normal_i = normals[i]\n",
    "        \n",
    "        # Query all other patches (potential neighbors)\n",
    "        # Using the full scene bounding box diagonal is a safe but loose upper bound for neighbors\n",
    "        potential_j_indices = list(range(N))\n",
    "        potential_j_indices.remove(i)\n",
    "        \n",
    "        if not potential_j_indices:\n",
    "            continue\n",
    "            \n",
    "        # Vectorized calculations for all potential neighbors\n",
    "        vecs_ij = centroids[potential_j_indices] - origin_i\n",
    "        distances_ij = np.linalg.norm(vecs_ij, axis=1)\n",
    "        directions_ij = vecs_ij / distances_ij[:, np.newaxis]\n",
    "        \n",
    "        # Calculate cosine terms\n",
    "        cos_theta_i = directions_ij @ normal_i\n",
    "        \n",
    "        # Note the negative sign: cos_theta_j is dot(direction_ij, normal_j), but the form factor\n",
    "        # uses the angle with the incoming ray, so we use -direction_ij.\n",
    "        cos_theta_j = -np.einsum('ij,ij->i', directions_ij, normals[potential_j_indices])\n",
    "        \n",
    "        # Back-face culling: only consider patches that are facing each other\n",
    "        valid_mask = (cos_theta_i > epsilon) & (cos_theta_j > epsilon)\n",
    "        \n",
    "        if not np.any(valid_mask):\n",
    "            continue\n",
    "            \n",
    "        # Filter to only potentially visible patches\n",
    "        j_indices = np.array(potential_j_indices)[valid_mask]\n",
    "        dirs = directions_ij[valid_mask]\n",
    "        dists = distances_ij[valid_mask]\n",
    "        \n",
    "        # Ray origins are slightly offset from the surface to avoid self-intersection\n",
    "        ray_origins = origin_i + epsilon * dirs\n",
    "        \n",
    "        # Perform batched ray-casting to check for occluders\n",
    "        # We only need the first hit for each ray.\n",
    "        hit_locations, index_ray, index_tri = scene_rays.intersects_location(\n",
    "            ray_origins=ray_origins,\n",
    "            ray_directions=dirs,\n",
    "            multiple_hits=False\n",
    "        )\n",
    "        \n",
    "        # Assume all are visible initially\n",
    "        is_visible = np.ones(len(j_indices), dtype=bool)\n",
    "        \n",
    "        if len(hit_locations) > 0:\n",
    "            # Calculate distance to the first object hit by each ray\n",
    "            hit_dists = np.linalg.norm(hit_locations - ray_origins[index_ray], axis=1)\n",
    "            \n",
    "            # If the hit distance is less than the distance to the target patch j, it's occluded.\n",
    "            expected_dists = dists[index_ray]\n",
    "            blocked = hit_dists < expected_dists - epsilon\n",
    "            \n",
    "            # Update visibility for the rays that were blocked\n",
    "            is_visible[index_ray[blocked]] = False\n",
    "        \n",
    "        # Final filtering for visible patches\n",
    "        visible_j_indices = j_indices[is_visible]\n",
    "        if len(visible_j_indices) == 0:\n",
    "            continue\n",
    "        \n",
    "        # Get geometric terms for only the visible patches\n",
    "        visible_cos_i = cos_theta_i[valid_mask][is_visible]\n",
    "        visible_cos_j = cos_theta_j[valid_mask][is_visible]\n",
    "        visible_dists = dists[is_visible]\n",
    "        \n",
    "        # Calculate and store the form factor value\n",
    "        form_factor_value = (visible_cos_i * visible_cos_j * areas[visible_j_indices]) / (np.pi * visible_dists**2)\n",
    "        F[i, visible_j_indices] = np.clip(form_factor_value, 0, 1)\n",
    "\n",
    "\n",
    "        # Save after computing\n",
    "    np.save(F_path, F)\n",
    "    print(\"Saved form factor and visibility matrices.\")\n",
    "\n",
    "F_sparse = csr_matrix(F)"
   ]
  },
  {
   "cell_type": "code",
   "execution_count": 37,
   "id": "c8d26396-2dfc-4afd-91ba-88bffef7991d",
   "metadata": {},
   "outputs": [
    {
     "data": {
      "application/vnd.jupyter.widget-view+json": {
       "model_id": "6ee60a655eaa4e44a769a6738fa3b032",
       "version_major": 2,
       "version_minor": 0
      },
      "text/plain": [
       "Widget(value='<iframe src=\"http://localhost:57219/index.html?ui=P_0x18473872ad0_4&reconnect=auto\" class=\"pyvis…"
      ]
     },
     "metadata": {},
     "output_type": "display_data"
    }
   ],
   "source": [
    "visualize_triangles(T, triangle_values=F)"
   ]
  },
  {
   "cell_type": "code",
   "execution_count": 38,
   "id": "9558665e-e804-418b-8fc4-8934dda5929e",
   "metadata": {},
   "outputs": [],
   "source": [
    "def create_ply_with_vertex_color(triangles, vertex_colors, output_filename, binary=True):\n",
    "    # Flattened list of all vertices (duplicated per face)\n",
    "    all_vertices = triangles.reshape(-1, 3)\n",
    "    all_faces = np.arange(len(all_vertices)).reshape(-1, 3)\n",
    "    triangle_colors = vertex_colors\n",
    "    \n",
    "    # Get unique vertices\n",
    "    unique_vertices, inverse_indices = np.unique(all_vertices, axis=0, return_inverse=True)\n",
    "    num_unique = unique_vertices.shape[0]\n",
    "    \n",
    "    # Build per-vertex color from triangle colors\n",
    "    vertex_colors = np.zeros((num_unique, 3), dtype=np.float64)\n",
    "    vertex_counts = np.zeros(num_unique, dtype=np.int32)\n",
    "    \n",
    "    # Loop over all triangles\n",
    "    for tri_idx, face in enumerate(all_faces):\n",
    "        for local_vidx in range(3):  # 3 vertices per triangle\n",
    "            global_vidx = inverse_indices[tri_idx * 3 + local_vidx]\n",
    "            vertex_colors[global_vidx] += triangle_colors[tri_idx]\n",
    "            vertex_counts[global_vidx] += 1\n",
    "    \n",
    "    # Average the colors\n",
    "    vertex_colors /= vertex_counts[:, None]\n",
    "\n",
    "    # Pack into structured array\n",
    "    vertex_dtype = np.dtype([\n",
    "        ('x', 'f4'), ('y', 'f4'), ('z', 'f4'),\n",
    "        ('red', 'f4'), ('green', 'f4'), ('blue', 'f4')\n",
    "    ])\n",
    "    vertex_data = np.zeros(len(unique_vertices), dtype=vertex_dtype)\n",
    "    vertex_data['x'] = unique_vertices[:, 0]\n",
    "    vertex_data['y'] = unique_vertices[:, 1]\n",
    "    vertex_data['z'] = unique_vertices[:, 2]\n",
    "    vertex_data['red'] = vertex_colors[:, 0]\n",
    "    vertex_data['green'] = vertex_colors[:, 1]\n",
    "    vertex_data['blue'] = vertex_colors[:, 2]\n",
    "    \n",
    "    remapped_faces = inverse_indices.reshape(-1, 3)  # shape: (n_faces, 3)\n",
    "    # Face data\n",
    "    face_dtype = np.dtype([('vertex_indices', 'i4', (3,))])\n",
    "    face_data = np.array([(face,) for face in remapped_faces], dtype=face_dtype)\n",
    "    \n",
    "    # Write PLY\n",
    "    ply = PlyData([\n",
    "        PlyElement.describe(vertex_data, 'vertex'),\n",
    "        PlyElement.describe(face_data, 'face')\n",
    "    ], text=False)\n",
    "    \n",
    "    ply.write(output_filename)"
   ]
  },
  {
   "cell_type": "code",
   "execution_count": 39,
   "id": "dae7923e-5723-4e69-a7b7-d982d01d9f66",
   "metadata": {},
   "outputs": [],
   "source": [
    "def create_ply_with_face_color(triangles, face_colors, output_filename):\n",
    "    \"\"\"\n",
    "    Creates a PLY file where each face has a specified color.\n",
    "    Each triangle gets a uniform color (face color).\n",
    "    \"\"\"\n",
    "    all_vertices = triangles.reshape(-1, 3)\n",
    "    all_faces = np.arange(len(all_vertices)).reshape(-1, 3)\n",
    "    triangle_colors = face_colors\n",
    "    \n",
    "    # Duplicate vertices per triangle\n",
    "    duplicated_vertices = all_vertices[all_faces].reshape(-1, 3)  # shape: (n_faces * 3, 3)\n",
    "    \n",
    "    # Create new face indices\n",
    "    n_faces = all_faces.shape[0]\n",
    "    duplicated_faces = np.arange(n_faces * 3).reshape(n_faces, 3)\n",
    "    \n",
    "    # Assign triangle color to each vertex\n",
    "    # Each triangle contributes its color to 3 vertices\n",
    "    per_vertex_colors = np.repeat(triangle_colors, 3, axis=0)  # shape: (n_faces * 3, 3)\n",
    "    \n",
    "    # Pack into structured array for PLY\n",
    "    vertex_dtype = np.dtype([\n",
    "        ('x', 'f4'), ('y', 'f4'), ('z', 'f4'),\n",
    "        ('red', 'f4'), ('green', 'f4'), ('blue', 'f4')\n",
    "    ])\n",
    "    vertex_data = np.zeros(len(duplicated_vertices), dtype=vertex_dtype)\n",
    "    vertex_data['x'] = duplicated_vertices[:, 0]\n",
    "    vertex_data['y'] = duplicated_vertices[:, 1]\n",
    "    vertex_data['z'] = duplicated_vertices[:, 2]\n",
    "    vertex_data['red'] = per_vertex_colors[:, 0]\n",
    "    vertex_data['green'] = per_vertex_colors[:, 1]\n",
    "    vertex_data['blue'] = per_vertex_colors[:, 2]\n",
    "    \n",
    "    # Face data\n",
    "    face_dtype = np.dtype([('vertex_indices', 'i4', (3,))])\n",
    "    face_data = np.array([(f,) for f in duplicated_faces], dtype=face_dtype)\n",
    "    \n",
    "    # Write binary PLY\n",
    "    ply = PlyData([\n",
    "        PlyElement.describe(vertex_data, 'vertex'),\n",
    "        PlyElement.describe(face_data, 'face')\n",
    "    ], text=False)  # text=False → binary format (recommended)\n",
    "    \n",
    "    ply.write(output_filename)\n",
    "\n",
    "    # print(f\"Created PLY with face colors at '{output_filename}'\")"
   ]
  },
  {
   "cell_type": "code",
   "execution_count": 40,
   "id": "a71c3fb5-25de-4183-93b5-1096e7a45bf9",
   "metadata": {},
   "outputs": [],
   "source": [
    "def render_with_mitsuba(triangles, radiosity_colors, spp=128, smooth=False):\n",
    "    \"\"\"\n",
    "    Renders the scene using the calculated radiosity values.\n",
    "    \"\"\"\n",
    "    yaw= 0.0\n",
    "    pitch= -270.0\n",
    "    radius= 10 # 10 for cbox, 4.5 for sphere cbox\n",
    "    \n",
    "    # Convert angles to radians\n",
    "    yaw_rad = np.radians(yaw)\n",
    "    pitch_rad = np.radians(pitch)\n",
    "    \n",
    "    # Spherical to Cartesian for camera position\n",
    "    x = radius * np.cos(pitch_rad) * np.sin(yaw_rad)\n",
    "    y = radius * np.cos(pitch_rad) * np.cos(yaw_rad)\n",
    "    z = radius * np.sin(pitch_rad)\n",
    "    \n",
    "    origin = [x, y + 1, z] # y + 1 for others\n",
    "    target = [0, 2.5, 0] # 2.5 for cbox, 1 for sphere cbox\n",
    "    up = [0, 1, 0]\n",
    "    \n",
    "    ply_filename = \"radiosityresult.ply\"\n",
    "    if smooth:\n",
    "        create_ply_with_vertex_color(triangles, radiosity_colors, ply_filename)   \n",
    "    else:\n",
    "        create_ply_with_face_color(triangles, radiosity_colors, ply_filename)   \n",
    "          \n",
    "    # Define the scene for Mitsuba\n",
    "    scene_dict = {\n",
    "        \"type\": \"scene\",\n",
    "        \"integrator\": {\"type\": \"path\", \"max_depth\": 1},\n",
    "        \n",
    "        \"sensor\": {\n",
    "            \"type\": \"perspective\",\n",
    "            \"to_world\": mi.ScalarTransform4f.look_at(origin, target, up),\n",
    "            \"film\": {\n",
    "                \"type\": \"hdrfilm\",\n",
    "                \"width\": 1600,\n",
    "                \"height\": 1600  \n",
    "            },\n",
    "    \n",
    "            \"sampler\": {\n",
    "                \"type\": \"independent\",\n",
    "                \"sample_count\": spp  # Number of samples per pixel\n",
    "            }\n",
    "        },\n",
    "        \n",
    "        # The main object is a PLY mesh acting as an emitter\n",
    "        \"radiosity_mesh\": {\n",
    "            \"type\": \"ply\",\n",
    "            \"filename\": ply_filename,\n",
    "            \"emitter\": {\n",
    "                \"type\": \"area\",\n",
    "                \"radiance\": {\n",
    "                    \"type\": \"mesh_attribute\",\n",
    "                    # Mitsuba reads 'red','green','blue' as 'vertex_color' by default\n",
    "                    # from face properties if they exist.\n",
    "                    \"name\": \"vertex_color\",\n",
    "                }\n",
    "            }\n",
    "        },\n",
    "        # \"emitter\": { \"type\": \"constant\", \"radiance\": { \"type\": \"rgb\", \"value\": [1, 1, 1] } }\n",
    "    }\n",
    "    \n",
    "    scene = mi.load_dict(scene_dict)\n",
    "    image = mi.render(scene, spp=spp)\n",
    "    \n",
    "    return image"
   ]
  },
  {
   "cell_type": "code",
   "execution_count": 42,
   "id": "2f79015e-76a7-44c1-be3e-a5d5d1a3e409",
   "metadata": {},
   "outputs": [
    {
     "data": {
      "application/vnd.jupyter.widget-view+json": {
       "model_id": "",
       "version_major": 2,
       "version_minor": 0
      },
      "text/plain": [
       "Radiosity Bounces:   0%|          | 0/50 [00:00<?, ?it/s]"
      ]
     },
     "metadata": {},
     "output_type": "display_data"
    },
    {
     "name": "stdout",
     "output_type": "stream",
     "text": [
      "Radiosity calculation complete.\n"
     ]
    }
   ],
   "source": [
    "num_iterations = 50\n",
    "B = np.zeros_like(E)\n",
    "\n",
    "# radiosity_per_bounce = [E.copy()]\n",
    "\n",
    "for i in tqdm(range(num_iterations), desc=\"Radiosity Bounces\", leave=False):\n",
    "    # Matrix multiplication computes the sum over j for all i simultaneously\n",
    "    incoming_light = F_sparse @ B\n",
    "    \n",
    "    # Update radiosity for each color channel\n",
    "    B = E + rho * incoming_light\n",
    "    \n",
    "    # # Clip to avoid negative values due to numerical precision issues\n",
    "    # B = np.clip(B, 0, None)\n",
    "    \n",
    "    # radiosity_per_bounce.append(B.copy())\n",
    "\n",
    "final_image = render_with_mitsuba(T, B, spp=16, smooth=False)\n",
    "bitmap = mi.util.convert_to_bitmap(final_image)\n",
    "bitmap.write(f\"radiosity_final.png\")\n",
    "\n",
    "print(\"Radiosity calculation complete.\")"
   ]
  },
  {
   "cell_type": "code",
   "execution_count": null,
   "id": "da930239-f1b6-4f03-b222-13629a90877a",
   "metadata": {},
   "outputs": [],
   "source": []
  }
 ],
 "metadata": {
  "kernelspec": {
   "display_name": "Python 3 (ipykernel)",
   "language": "python",
   "name": "python3"
  },
  "language_info": {
   "codemirror_mode": {
    "name": "ipython",
    "version": 3
   },
   "file_extension": ".py",
   "mimetype": "text/x-python",
   "name": "python",
   "nbconvert_exporter": "python",
   "pygments_lexer": "ipython3",
   "version": "3.11.5"
  }
 },
 "nbformat": 4,
 "nbformat_minor": 5
}
